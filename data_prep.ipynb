{
 "cells": [
  {
   "cell_type": "code",
   "execution_count": 1,
   "metadata": {},
   "outputs": [],
   "source": [
    "#import necessary libraries\n",
    "\n",
    "import os\n",
    "import pandas as pd"
   ]
  },
  {
   "cell_type": "code",
   "execution_count": 2,
   "metadata": {},
   "outputs": [],
   "source": [
    "# pre process into separate station files\n",
    "\n",
    "if not os.path.exists('./processed'):\n",
    "    os.mkdir('./processed')\n",
    "\n",
    "if not os.path.exists('./media'):\n",
    "    os.mkdir('./media')\n",
    "\n",
    "data = pd.read_csv(\"./AQI_Hackathon/train.csv\").drop(['ID_Date'],axis=1)\n",
    "data['ID'] = data['StateCode'] + '_' + data['StationId'].astype('str')\n",
    "data = data.drop(['StateCode','StationId'],axis=1)\n",
    "\n",
    "for id in data['ID'].unique():\n",
    "    data[data['ID']==id].to_csv(f'./processed/{id}.csv',index=False)"
   ]
  }
 ],
 "metadata": {
  "kernelspec": {
   "display_name": "h2o",
   "language": "python",
   "name": "python3"
  },
  "language_info": {
   "codemirror_mode": {
    "name": "ipython",
    "version": 3
   },
   "file_extension": ".py",
   "mimetype": "text/x-python",
   "name": "python",
   "nbconvert_exporter": "python",
   "pygments_lexer": "ipython3",
   "version": "3.11.2"
  },
  "orig_nbformat": 4,
  "vscode": {
   "interpreter": {
    "hash": "9b304bdd2dc29b851c05b7258ba3fae8d438b12264cec647c0e6057779dd25bd"
   }
  }
 },
 "nbformat": 4,
 "nbformat_minor": 2
}
